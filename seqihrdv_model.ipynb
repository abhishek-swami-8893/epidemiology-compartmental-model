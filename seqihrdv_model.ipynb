{
 "cells": [
  {
   "cell_type": "code",
   "execution_count": 427,
   "id": "b902b4f2",
   "metadata": {},
   "outputs": [],
   "source": [
    "import os\n",
    "import sys\n",
    "import matplotlib.pyplot as plt\n",
    "import numpy as np\n",
    "import pandas as pd\n",
    "from matplotlib import rcParams\n",
    "from scipy.integrate import odeint\n",
    "import lmfit\n",
    "from lmfit.lineshapes import gaussian, lorentzian   #Installing necessay libraries\n",
    "from lmfit import report_fit\n",
    "import plotly.graph_objects as go\n",
    "import plotly.io as pio\n",
    "import plotly.express as px\n",
    "pio.renderers.default = \"notebook\"\n",
    "%matplotlib inline\n",
    "plt.style.use('ggplot')\n",
    "from IPython.display import HTML\n",
    "from ipywidgets.widgets import interact, IntSlider, FloatSlider, Layout, ToggleButton, ToggleButtons\n",
    "style = {'description_width': '100px'}\n",
    "slider_layout = Layout(width='99%')\n",
    "%matplotlib inline"
   ]
  },
  {
   "cell_type": "code",
   "execution_count": 428,
   "id": "8bbf4cd4",
   "metadata": {},
   "outputs": [
    {
     "data": {
      "text/html": [
       "<div>\n",
       "<style scoped>\n",
       "    .dataframe tbody tr th:only-of-type {\n",
       "        vertical-align: middle;\n",
       "    }\n",
       "\n",
       "    .dataframe tbody tr th {\n",
       "        vertical-align: top;\n",
       "    }\n",
       "\n",
       "    .dataframe thead th {\n",
       "        text-align: right;\n",
       "    }\n",
       "</style>\n",
       "<table border=\"1\" class=\"dataframe\">\n",
       "  <thead>\n",
       "    <tr style=\"text-align: right;\">\n",
       "      <th></th>\n",
       "      <th>Date</th>\n",
       "      <th>Decease</th>\n",
       "    </tr>\n",
       "  </thead>\n",
       "  <tbody>\n",
       "    <tr>\n",
       "      <th>0</th>\n",
       "      <td>2022-11-02</td>\n",
       "      <td>530461</td>\n",
       "    </tr>\n",
       "    <tr>\n",
       "      <th>1</th>\n",
       "      <td>2022-11-01</td>\n",
       "      <td>530452</td>\n",
       "    </tr>\n",
       "    <tr>\n",
       "      <th>2</th>\n",
       "      <td>2022-10-31</td>\n",
       "      <td>529077</td>\n",
       "    </tr>\n",
       "    <tr>\n",
       "      <th>3</th>\n",
       "      <td>2022-10-30</td>\n",
       "      <td>529024</td>\n",
       "    </tr>\n",
       "    <tr>\n",
       "      <th>4</th>\n",
       "      <td>2022-10-29</td>\n",
       "      <td>529016</td>\n",
       "    </tr>\n",
       "  </tbody>\n",
       "</table>\n",
       "</div>"
      ],
      "text/plain": [
       "        Date  Decease\n",
       "0 2022-11-02   530461\n",
       "1 2022-11-01   530452\n",
       "2 2022-10-31   529077\n",
       "3 2022-10-30   529024\n",
       "4 2022-10-29   529016"
      ]
     },
     "execution_count": 428,
     "metadata": {},
     "output_type": "execute_result"
    }
   ],
   "source": [
    "data=pd.read_excel(\"C:/Users/hp/Desktop/Ind_death.xlsx\") #importing death count data for india\n",
    "data.head()"
   ]
  },
  {
   "cell_type": "code",
   "execution_count": 429,
   "id": "68a80b1f",
   "metadata": {},
   "outputs": [
    {
     "data": {
      "text/html": [
       "<div>\n",
       "<style scoped>\n",
       "    .dataframe tbody tr th:only-of-type {\n",
       "        vertical-align: middle;\n",
       "    }\n",
       "\n",
       "    .dataframe tbody tr th {\n",
       "        vertical-align: top;\n",
       "    }\n",
       "\n",
       "    .dataframe thead th {\n",
       "        text-align: right;\n",
       "    }\n",
       "</style>\n",
       "<table border=\"1\" class=\"dataframe\">\n",
       "  <thead>\n",
       "    <tr style=\"text-align: right;\">\n",
       "      <th></th>\n",
       "      <th>Date</th>\n",
       "      <th>Decease</th>\n",
       "    </tr>\n",
       "  </thead>\n",
       "  <tbody>\n",
       "    <tr>\n",
       "      <th>1015</th>\n",
       "      <td>2020-01-22</td>\n",
       "      <td>0</td>\n",
       "    </tr>\n",
       "    <tr>\n",
       "      <th>1014</th>\n",
       "      <td>2020-01-23</td>\n",
       "      <td>0</td>\n",
       "    </tr>\n",
       "    <tr>\n",
       "      <th>1013</th>\n",
       "      <td>2020-01-24</td>\n",
       "      <td>0</td>\n",
       "    </tr>\n",
       "    <tr>\n",
       "      <th>1012</th>\n",
       "      <td>2020-01-25</td>\n",
       "      <td>0</td>\n",
       "    </tr>\n",
       "    <tr>\n",
       "      <th>1011</th>\n",
       "      <td>2020-01-26</td>\n",
       "      <td>0</td>\n",
       "    </tr>\n",
       "    <tr>\n",
       "      <th>...</th>\n",
       "      <td>...</td>\n",
       "      <td>...</td>\n",
       "    </tr>\n",
       "    <tr>\n",
       "      <th>4</th>\n",
       "      <td>2022-10-29</td>\n",
       "      <td>529016</td>\n",
       "    </tr>\n",
       "    <tr>\n",
       "      <th>3</th>\n",
       "      <td>2022-10-30</td>\n",
       "      <td>529024</td>\n",
       "    </tr>\n",
       "    <tr>\n",
       "      <th>2</th>\n",
       "      <td>2022-10-31</td>\n",
       "      <td>529077</td>\n",
       "    </tr>\n",
       "    <tr>\n",
       "      <th>1</th>\n",
       "      <td>2022-11-01</td>\n",
       "      <td>530452</td>\n",
       "    </tr>\n",
       "    <tr>\n",
       "      <th>0</th>\n",
       "      <td>2022-11-02</td>\n",
       "      <td>530461</td>\n",
       "    </tr>\n",
       "  </tbody>\n",
       "</table>\n",
       "<p>1016 rows × 2 columns</p>\n",
       "</div>"
      ],
      "text/plain": [
       "           Date  Decease\n",
       "1015 2020-01-22        0\n",
       "1014 2020-01-23        0\n",
       "1013 2020-01-24        0\n",
       "1012 2020-01-25        0\n",
       "1011 2020-01-26        0\n",
       "...         ...      ...\n",
       "4    2022-10-29   529016\n",
       "3    2022-10-30   529024\n",
       "2    2022-10-31   529077\n",
       "1    2022-11-01   530452\n",
       "0    2022-11-02   530461\n",
       "\n",
       "[1016 rows x 2 columns]"
      ]
     },
     "execution_count": 429,
     "metadata": {},
     "output_type": "execute_result"
    }
   ],
   "source": [
    "\n",
    "data = data.sort_values(by='Date') # sorting data of death count to start for 0th day\n",
    "data"
   ]
  },
  {
   "cell_type": "code",
   "execution_count": 430,
   "id": "32cc7814",
   "metadata": {},
   "outputs": [
    {
     "data": {
      "text/plain": [
       "Text(0, 0.5, 'Counts in lakhs')"
      ]
     },
     "execution_count": 430,
     "metadata": {},
     "output_type": "execute_result"
    },
    {
     "data": {
      "image/png": "[encoded data removed]",
      "text/plain": [
       "<Figure size 432x288 with 1 Axes>"
      ]
     },
     "metadata": {
      "needs_background": "light"
     },
     "output_type": "display_data"
    }
   ],
   "source": [
    "plt.plot(np.arange(0,1016,1),data.loc[:,\"Decease\"],color=\"blue\")\n",
    "plt.title('Observed Number Of Deaths')\n",
    "plt.xlabel('Days')                                              #Plotting death count data\n",
    "plt.ylabel('Counts in lakhs')"
   ]
  },
  {
   "cell_type": "code",
   "execution_count": 431,
   "id": "12e2b812",
   "metadata": {},
   "outputs": [],
   "source": [
    "\n",
    "Start_N  = 1380004385\n",
    "Start_E = 1\n",
    "Start_I = 1\n",
    "Start_Q = 0            #defining inital values for S,E,Q,I,R,D,V,H\n",
    "Start_H = 0\n",
    "Start_R = 0\n",
    "Start_D = 0\n",
    "Start_V = 2\n",
    "\n",
    "\n",
    "giga= 0.80\n",
    "tera= 0.15\n",
    "mega= 0.60\n",
    "kilo=  0.14\n",
    "nano=  0.13\n",
    "gamma = 1/2.9\n",
    "omega =  0.05\n",
    "theta = 1/12\n",
    "delta = 1/5.2         # defining initial guess for parameters\n",
    "pi = 0.60\n",
    "alpha = 0.40\n",
    "sigma = 1/6.5\n",
    "lamda = 1/7.5\n",
    "#beta = 1.37\n",
    "start_R = 3.0\n",
    "end_R = 0.9\n",
    "Stch = 2.5\n",
    "x0 = 130\n",
    "days = 180\n",
    "days_fit = 1016\n",
    "x_data = np.arange(0, days_fit, 1)"
   ]
  },
  {
   "cell_type": "code",
   "execution_count": 432,
   "id": "4e9a5155",
   "metadata": {},
   "outputs": [],
   "source": [
    "def beta(t):\n",
    "        return Chang_R(t, start_R, Stch, x0, end_R) * gamma            \n",
    "def Chang_R(t, start_R, Stch, x0, end_R):                                #Defining varying transmission rate and reproducton number with time\n",
    "        return (start_R - end_R) / (1 + np.exp(-Stch*(-t+x0))) + end_R\n",
    "\n"
   ]
  },
  {
   "cell_type": "code",
   "execution_count": 433,
   "id": "7e3891c4",
   "metadata": {},
   "outputs": [],
   "source": [
    "def core(n, t, giga, tera, mega, kilo, nano, gamma, theta, delta, pi, alpha, sigma, lamda, omega,start_R, end_R, Stch, x0):\n",
    "\n",
    "    \n",
    "    \n",
    "    def beta(t):\n",
    "        return Chang_R(t, start_R, Stch, x0, end_R) * gamma\n",
    "    def Chang_R(t, start_R, Stch, x0, end_R):\n",
    "        return (start_R - end_R) / (1 + np.exp(-Stch*(-t+x0))) + end_R\n",
    "\n",
    "    \n",
    "    S, E, Q, I, C, R, D, V, T = n\n",
    "    N = S + E + Q + I + C + R + D + V\n",
    "    Chan_S = -beta(t)*I*(S/N) - omega*(S-(beta(t)*I))*(1-(S/N)) \n",
    "    Chan_E =  beta(t)*I*(S/N) - delta*giga*E - tera*(1-giga)*E\n",
    "    Chan_Q =  tera*(1-giga)*E - nano*mega*Q - kilo*(1 - mega)*Q\n",
    "    Chan_I =  delta*giga*E - gamma*(1-pi)*I - theta*pi*I + nano*mega*Q  #Core mathematical model\n",
    "    Chan_H = theta*pi*I - sigma*(1-alpha)*C - lamda*alpha*C\n",
    "    Chan_R = gamma*(1-pi)*I + sigma*(1-alpha)*C + kilo*(1 - mega)*Q\n",
    "    Chan_D = lamda*alpha*C\n",
    "    Chan_V = omega*(S-(beta(t)*I))*(1-(S/N))   \n",
    "    Tot    = Chan_S + Chan_E + Chan_Q + Chan_I + Chan_H + Chan_R + Chan_D + Chan_V\n",
    "    \n",
    "    \n",
    "   \n",
    "    return [Chan_S, Chan_E,  Chan_Q, Chan_I, Chan_H , Chan_R , Chan_D , Chan_V, Tot]"
   ]
  },
  {
   "cell_type": "code",
   "execution_count": 434,
   "id": "875008e3",
   "metadata": {},
   "outputs": [],
   "source": [
    "def gate(t, start_val, params):\n",
    "    Start_E, Start_Q, Start_I, Start_H, Start_R, Start_D, Start_V, Start_N = start_val\n",
    "    giga, tera, mega, kilo, nano, gamma, theta, delta, pi, alpha, sigma, lamda, omega, start_R, end_R, Stch, x0 = params\n",
    "    Start_S = Start_N - (Start_E + Start_Q + Start_I + Start_H + Start_R + Start_D + Start_V)\n",
    "    outc = odeint(core, [Start_S, Start_E, Start_Q, Start_I, Start_H, Start_R, Start_D, Start_V, Start_N], t, args=(giga, tera, mega, kilo, nano, gamma, theta, delta, pi, alpha, sigma, lamda, omega, start_R, end_R, Stch, x0))\n",
    "    return outc"
   ]
  },
  {
   "cell_type": "code",
   "execution_count": 435,
   "id": "45d46eda",
   "metadata": {},
   "outputs": [
    {
     "data": {
      "application/vnd.jupyter.widget-view+json": {
       "model_id": "cf5c63c5ec004b42a8b9e2de04079923",
       "version_major": 2,
       "version_minor": 0
      },
      "text/plain": [
       "interactive(children=(IntSlider(value=1, description='Start_E', layout=Layout(width='99%'), max=100000, style=…"
      ]
     },
     "metadata": {},
     "output_type": "display_data"
    }
   ],
   "source": [
    "def prime(Start_E, Start_Q, Start_I, Start_H, Start_R, Start_D, Start_V, Start_N, giga, tera, mega, kilo, nano, gamma, theta, delta, pi, alpha, sigma, lamda, omega, start_R, end_R, Stch, x0, days):\n",
    "    start_val = [Start_E, Start_Q, Start_I, Start_H, Start_R, Start_D, Start_V, Start_N]\n",
    "    params = [giga, tera, mega, kilo, nano, gamma, theta, delta, pi, alpha, sigma, lamda, omega, start_R, end_R, Stch, x0]\n",
    "    period = np.arange(0, days, 1)\n",
    "    fin = gate(period, start_val, params)\n",
    "    S, E, Q, I, C, R, D, V, T= fin[:, 0], fin[:, 1], fin[:, 2], fin[:, 3], fin[:, 4], fin[:, 5], fin[:, 6], fin[:, 7], fin[:, 8]\n",
    "    R0_over_time = Chang_R(period, start_R, Stch, x0, end_R)\n",
    "    \n",
    "    \n",
    "    plt.plot(np.arange(0,days,1),R0_over_time,color=\"blue\")\n",
    "    plt.title(\"R0 varying over time\")\n",
    "    plt.xlabel(\"Days\")                                     #Plotting varying reproduction number with time\n",
    "    plt.ylabel(\"R0_value\")\n",
    "    \n",
    "    \n",
    "    fig = go.Figure()\n",
    "    fig.add_trace(go.Scatter(x=period, y=S, \n",
    "                             mode='lines', \n",
    "                             name='Susceptible_Count'))\n",
    "    fig.add_trace(go.Scatter(x=period, y=E, \n",
    "                             mode='lines', \n",
    "                             name='Exposed_Count'))\n",
    "    fig.add_trace(go.Scatter(x=period, y=Q, \n",
    "                             mode='lines', \n",
    "                             name='Quarantine_Count'))\n",
    "    fig.add_trace(go.Scatter(x=period, y=I, \n",
    "                             mode='lines', \n",
    "                             name='Infected_Count'))      # Plotting the computed compartment counts\n",
    "    fig.add_trace(go.Scatter(x=period, y=C, \n",
    "                             mode='lines', \n",
    "                             name='Hospitalization_Count'))\n",
    "    fig.add_trace(go.Scatter(x=period, y=R, \n",
    "                             mode='lines',\n",
    "                             name='Recovered_Count'))\n",
    "    fig.add_trace(go.Scatter(x=period, y=D, \n",
    "                             mode='lines',\n",
    "                             name='Death_Count'))\n",
    "    fig.add_trace(go.Scatter(x=period, y=V, \n",
    "                             mode='lines',\n",
    "                             name='Vaccinated_Count'))\n",
    "    fig.add_trace(go.Scatter(x=period, y=T, \n",
    "                             mode='lines',\n",
    "                             name='Total_Count'))\n",
    "    \n",
    "    \n",
    "    \n",
    "\n",
    "    if days <= 30:\n",
    "        step = 1\n",
    "    elif days <= 180:   #assigning range of values to step for better visualization\n",
    "        step = 30\n",
    "    else:\n",
    "        step = 100\n",
    "    \n",
    " \n",
    "        \n",
    "    \n",
    "    \n",
    "    \n",
    "    fig.update_layout(title='Simulation of SEQIHRDV Model',xaxis_title='Days',yaxis_title='Compartment_Count',title_x=0.5,width=900, height=600,plot_bgcolor='black')\n",
    "                 # defining layout dimensions for computed compartment counts visualization\n",
    "    \n",
    "    fig.update_xaxes(tickangle=-90, tickformat = None, tickmode='array', tickvals=np.arange(0, days + 1, step))\n",
    "                #varying tick values according to defined steps for better visualization\n",
    "    fig.show()\n",
    "    \n",
    "    \n",
    "    \n",
    "interact(prime, \n",
    "         Start_E=IntSlider(min=0, max=100000, step=1, value=Start_E, description='Start_E', style=style, layout=slider_layout),\n",
    "         Start_Q=IntSlider(min=0, max=100000, step=1, value=Start_Q, description='Start_Q', style=style, layout=slider_layout),\n",
    "         Start_I=IntSlider(min=0, max=100000, step=10, value=Start_I, description='Start_I', style=style, layout=slider_layout),\n",
    "         Start_H=IntSlider(min=0, max=100000, step=1, value=Start_H, description='Start_H', style=style, layout=slider_layout),\n",
    "         Start_R=IntSlider(min=0, max=100000, step=10, value=Start_R, description='Start_R', style=style, layout=slider_layout),\n",
    "         Start_D=IntSlider(min=0, max=100000, step=10, value=Start_D, description='Start_D', style=style, layout=slider_layout),\n",
    "         Start_V=IntSlider(min=0, max=100000, step=10, value=Start_V, description='Start_V', style=style, layout=slider_layout),\n",
    "         Start_N=IntSlider(min=0, max=1380000000, step=1000, value=Start_N, description='Start_N', style=style, layout=slider_layout),\n",
    "         giga=FloatSlider(min=0, max=1, step=0.01, value=giga, description='Fraction E to I', style=style, layout=slider_layout),\n",
    "         tera=FloatSlider(min=0, max=10, step=0.01, value=tera, description='E to Q rate', style=style, layout=slider_layout),\n",
    "         mega=FloatSlider(min=0, max=1, step=0.01, value=mega, description='Fraction Q to I', style=style, layout=slider_layout),\n",
    "         kilo=FloatSlider(min=0, max=10, step=0.01, value=kilo, description='Q to R rate', style=style, layout=slider_layout),\n",
    "         nano=FloatSlider(min=0, max=10, step=0.01, value=nano, description='Q to I rate', style=style, layout=slider_layout),\n",
    "         gamma=FloatSlider(min=0, max=10, step=0.01, value=gamma, description='Recovery rate', style=style, layout=slider_layout),\n",
    "         theta=FloatSlider(min=0, max=10, step=0.01, value=theta, description='I to C rate', style=style, layout=slider_layout),\n",
    "         delta=FloatSlider(min=0, max=10, step=0.01, value=delta, description='Incubation rate', style=style, layout=slider_layout),\n",
    "         pi=FloatSlider(min=0, max=1, step=0.01, value=pi, description='Fraction I to C', style=style, layout=slider_layout),\n",
    "         alpha=FloatSlider(min=0, max=1, step=0.01, value=alpha, description='Fraction C to D', style=style, layout=slider_layout),\n",
    "         sigma=FloatSlider(min=0, max=10, step=0.01, value=sigma, description='C to R rate', style=style, layout=slider_layout),\n",
    "         lamda=FloatSlider(min=0, max=10, step=0.01, value=lamda, description='C to D rate', style=style, layout=slider_layout),\n",
    "         omega=FloatSlider(min=0, max=10, step=0.01, value=omega, description='omega', style=style, layout=slider_layout),\n",
    "         start_R=FloatSlider(min=0, max=10, step=0.01, value=start_R, description='Start_Val', style=style, layout=slider_layout),\n",
    "         end_R=FloatSlider(min=0, max=4, step=0.01, value=end_R, description='End_val', style=style, layout=slider_layout),\n",
    "         Stch=FloatSlider(min=0, max=20, step=0.01, value=Stch , description='Stretch', style=style, layout=slider_layout),\n",
    "         x0=FloatSlider(min=0, max=180, step=1, value=x0, description='D-Day', style=style, layout=slider_layout),\n",
    "         days=IntSlider(min=1, max=600, step=7, value=days, description='Days', style=style, layout=slider_layout),\n",
    "         #action=ToggleButton(value=False, description='interac', disabled=False, button_style='', \\\n",
    "             #tooltip='Click to enable interactivity', icon='check-circle')\n",
    "        );"
   ]
  },
  {
   "cell_type": "code",
   "execution_count": 436,
   "id": "b3369f71",
   "metadata": {},
   "outputs": [],
   "source": [
    "def fitter(x,giga,tera,mega,kilo,nano,pi,alpha,start_R,end_R,Stch,x0,omega):\n",
    "    start_val = [Start_E, Start_Q, Start_I, Start_H, Start_R, Start_D, Start_V, Start_N]\n",
    "    params = [giga, tera, mega, kilo, nano, gamma, theta, delta, pi, alpha, sigma, lamda, omega,start_R, end_R, Stch, x0]\n",
    "    period = np.arange(0, days_fit, 1)                               # defining function to provide model output to LM fit model\n",
    "    ret=gate(period, start_val, params)\n",
    "    return ret[:, 6]\n"
   ]
  },
  {
   "cell_type": "code",
   "execution_count": 437,
   "id": "bf870d6a",
   "metadata": {},
   "outputs": [],
   "source": [
    "mod = lmfit.Model(fitter)\n",
    "mod.set_param_hint(\"giga\", value=0.40,min=0.05, max=1.0 ,vary=True)\n",
    "mod.set_param_hint(\"tera\", value=0.11, vary=True)\n",
    "mod.set_param_hint(\"mega\", value=0.20, vary=True)\n",
    "mod.set_param_hint(\"kilo\", value=0.12, vary=True)\n",
    "mod.set_param_hint(\"nano\", value=0.11, vary=True)\n",
    "mod.set_param_hint(\"pi\", value=0.60, vary=True)                # defining LM fit  model with parameter range\n",
    "mod.set_param_hint(\"alpha\", value=0.40, vary=True)\n",
    "mod.set_param_hint(\"start_R\", value=3.0,min=2.0, max=5.0, vary=True)\n",
    "mod.set_param_hint(\"end_R\", value=0.9,min=0.3, max=3.5, vary=True)\n",
    "mod.set_param_hint(\"Stch\", value=2.5,min=0.01, max=5.0, vary=True)\n",
    "mod.set_param_hint(\"x0\", value=80,min=0, max=120, vary=True)\n",
    "mod.set_param_hint(\"omega\", value=0.05, vary=True)\n",
    "params = mod.make_params()\n",
    "fit_method = \"leastsq\""
   ]
  },
  {
   "cell_type": "code",
   "execution_count": 438,
   "id": "7e565875",
   "metadata": {},
   "outputs": [
    {
     "name": "stderr",
     "output_type": "stream",
     "text": [
      "C:\\Users\\hp\\AppData\\Local\\Temp/ipykernel_17120/2955861214.py:8: RuntimeWarning:\n",
      "\n",
      "overflow encountered in exp\n",
      "\n",
      "C:\\Users\\hp\\anaconda3\\lib\\site-packages\\scipy\\integrate\\odepack.py:247: ODEintWarning:\n",
      "\n",
      "Excess work done on this call (perhaps wrong Dfun type). Run with full_output = 1 to get quantitative information.\n",
      "\n"
     ]
    },
    {
     "data": {
      "text/plain": [
       "{'giga': 0.39516796959207756,\n",
       " 'tera': 0.09446150292086693,\n",
       " 'mega': 0.14679650125326807,\n",
       " 'kilo': 0.09804183519578794,\n",
       " 'nano': 0.10964426949440642,\n",
       " 'pi': 0.5842870885765072,\n",
       " 'alpha': 0.38714007448561283,\n",
       " 'start_R': 2.988313396095232,\n",
       " 'end_R': 0.918072790218488,\n",
       " 'Stch': 2.500714012589111,\n",
       " 'x0': 79.97186846703079,\n",
       " 'omega': 0.010109528588129519}"
      ]
     },
     "execution_count": 438,
     "metadata": {},
     "output_type": "execute_result"
    }
   ],
   "source": [
    "result = mod.fit(data.loc[:,\"Decease\"], params, method=\"least_squares\", x=x_data) \n",
    "                # Fitting data and model output \n",
    "result.best_values\n",
    "                # Displaying optimized parameters"
   ]
  },
  {
   "cell_type": "code",
   "execution_count": 439,
   "id": "9d4be380",
   "metadata": {},
   "outputs": [
    {
     "name": "stderr",
     "output_type": "stream",
     "text": [
      "C:\\Users\\hp\\AppData\\Local\\Temp/ipykernel_17120/2955861214.py:8: RuntimeWarning:\n",
      "\n",
      "overflow encountered in exp\n",
      "\n"
     ]
    },
    {
     "data": {
      "image/png": "[encoded data removed]",
      "text/plain": [
       "<Figure size 432x288 with 1 Axes>"
      ]
     },
     "metadata": {
      "needs_background": "light"
     },
     "output_type": "display_data"
    }
   ],
   "source": [
    "result.plot_fit(datafmt=\"-\");\n",
    "                   # Plotting the curve fits"
   ]
  },
  {
   "cell_type": "code",
   "execution_count": 440,
   "id": "afbd596d",
   "metadata": {},
   "outputs": [
    {
     "name": "stdout",
     "output_type": "stream",
     "text": [
      "[[Fit Statistics]]\n",
      "    # fitting method   = least_squares\n",
      "    # function evals   = 39\n",
      "    # data points      = 1016\n",
      "    # variables        = 12\n",
      "    chi-square         = 6.3053e+11\n",
      "    reduced chi-square = 6.2801e+08\n",
      "    Akaike info crit   = 20594.1314\n",
      "    Bayesian info crit = 20653.2149\n",
      "[[Variables]]\n",
      "    giga:     0.39516797 +/- 0.03503879 (8.87%) (init = 0.4)\n",
      "    tera:     0.09446150 +/- 7.37947959 (7812.16%) (init = 0.11)\n",
      "    mega:     0.14679650 +/- 103.501099 (70506.52%) (init = 0.2)\n",
      "    kilo:     0.09804184 +/- 7.34636702 (7493.09%) (init = 0.12)\n",
      "    nano:     0.10964427 +/- 130.052123 (118612.79%) (init = 0.11)\n",
      "    pi:       0.58428709 +/- 93.5547723 (16011.78%) (init = 0.6)\n",
      "    alpha:    0.38714007 +/- 107.492685 (27765.84%) (init = 0.4)\n",
      "    start_R:  2.98831340 +/- 131.314254 (4394.26%) (init = 3)\n",
      "    end_R:    0.91807279 +/- 104.652798 (11399.18%) (init = 0.9)\n",
      "    Stch:     2.50071401 +/- 10549.1148 (421844.11%) (init = 2.5)\n",
      "    x0:       79.9718685 +/- 819.149912 (1024.30%) (init = 80)\n",
      "    omega:    0.01010953 +/- 0.02153347 (213.00%) (init = 0.05)\n",
      "[[Correlations]] (unreported correlations are < 0.100)\n",
      "    C(tera, kilo)     = -1.000\n",
      "    C(start_R, end_R) = 0.996\n",
      "    C(pi, alpha)      = -0.972\n",
      "    C(alpha, end_R)   = 0.969\n",
      "    C(Stch, x0)       = 0.957\n",
      "    C(alpha, Stch)    = -0.951\n",
      "    C(pi, Stch)       = 0.949\n",
      "    C(pi, x0)         = 0.947\n",
      "    C(alpha, start_R) = 0.945\n",
      "    C(end_R, Stch)    = -0.896\n",
      "    C(alpha, x0)      = -0.894\n",
      "    C(pi, end_R)      = -0.885\n",
      "    C(start_R, Stch)  = -0.877\n",
      "    C(mega, start_R)  = 0.857\n",
      "    C(mega, end_R)    = 0.849\n",
      "    C(pi, start_R)    = -0.843\n",
      "    C(mega, nano)     = -0.830\n",
      "    C(start_R, omega) = -0.822\n",
      "    C(end_R, omega)   = -0.811\n",
      "    C(end_R, x0)      = -0.784\n",
      "    C(mega, alpha)    = 0.764\n",
      "    C(start_R, x0)    = -0.749\n",
      "    C(mega, omega)    = -0.735\n",
      "    C(alpha, omega)   = -0.695\n",
      "    C(nano, omega)    = 0.689\n",
      "    C(mega, Stch)     = -0.651\n",
      "    C(mega, pi)       = -0.639\n",
      "    C(kilo, x0)       = 0.637\n",
      "    C(tera, x0)       = -0.637\n",
      "    C(tera, Stch)     = -0.599\n",
      "    C(kilo, Stch)     = 0.598\n",
      "    C(nano, start_R)  = -0.574\n",
      "    C(tera, start_R)  = 0.567\n",
      "    C(kilo, start_R)  = -0.565\n",
      "    C(pi, omega)      = 0.548\n",
      "    C(Stch, omega)    = 0.539\n",
      "    C(tera, end_R)    = 0.538\n",
      "    C(kilo, end_R)    = -0.536\n",
      "    C(nano, end_R)    = -0.529\n",
      "    C(tera, alpha)    = 0.519\n",
      "    C(kilo, alpha)    = -0.517\n",
      "    C(tera, pi)       = -0.468\n",
      "    C(kilo, pi)       = 0.467\n",
      "    C(mega, x0)       = -0.440\n",
      "    C(giga, tera)     = 0.407\n",
      "    C(giga, kilo)     = -0.406\n",
      "    C(x0, omega)      = 0.378\n",
      "    C(nano, alpha)    = -0.336\n",
      "    C(tera, omega)    = -0.287\n",
      "    C(kilo, omega)    = 0.281\n",
      "    C(giga, start_R)  = 0.276\n",
      "    C(giga, Stch)     = -0.269\n",
      "    C(giga, x0)       = -0.265\n",
      "    C(giga, end_R)    = 0.261\n",
      "    C(giga, alpha)    = 0.239\n",
      "    C(giga, pi)       = -0.206\n",
      "    C(nano, Stch)     = 0.192\n",
      "    C(giga, omega)    = -0.186\n",
      "    C(tera, mega)     = 0.139\n",
      "    C(mega, kilo)     = -0.138\n",
      "    C(nano, pi)       = 0.133\n",
      "    C(giga, mega)     = 0.118\n"
     ]
    }
   ],
   "source": [
    "report_fit(result)\n",
    "          # displaying detailed fit statistics"
   ]
  },
  {
   "cell_type": "code",
   "execution_count": 442,
   "id": "7a6d3e32",
   "metadata": {},
   "outputs": [
    {
     "data": {
      "application/vnd.jupyter.widget-view+json": {
       "model_id": "e7b07ae2a62b483b8defb2cabd943ef3",
       "version_major": 2,
       "version_minor": 0
      },
      "text/plain": [
       "interactive(children=(IntSlider(value=1, description='Start_E', layout=Layout(width='99%'), max=100000, style=…"
      ]
     },
     "metadata": {},
     "output_type": "display_data"
    }
   ],
   "source": [
    " \n",
    "         # Simulating the model output with feeding the optimized parameters\n",
    "\n",
    "interact(prime, \n",
    "         Start_E=IntSlider(min=0, max=100000, step=1, value=Start_E, description='Start_E', style=style, layout=slider_layout),\n",
    "         Start_Q=IntSlider(min=0, max=100000, step=1, value=Start_Q, description='Start_Q', style=style, layout=slider_layout),\n",
    "         Start_I=IntSlider(min=0, max=100000, step=10, value=Start_I, description='Start_I', style=style, layout=slider_layout),\n",
    "         Start_H=IntSlider(min=0, max=100000, step=1, value=Start_H, description='Start_H', style=style, layout=slider_layout),\n",
    "         Start_R=IntSlider(min=0, max=100000, step=10, value=Start_R, description='Start_R', style=style, layout=slider_layout),\n",
    "         Start_D=IntSlider(min=0, max=100000, step=10, value=Start_D, description='Start_D', style=style, layout=slider_layout),\n",
    "         Start_V=IntSlider(min=0, max=100000, step=10, value=Start_V, description='Start_V', style=style, layout=slider_layout),\n",
    "         Start_N=IntSlider(min=0, max=1380000000, step=1000, value=Start_N, description='Start_N', style=style, layout=slider_layout),\n",
    "         giga=FloatSlider(min=0, max=1, step=0.01, value=result.best_values['giga'], description='Fraction E to I', style=style, layout=slider_layout),\n",
    "         tera=FloatSlider(min=0, max=10, step=0.01, value=result.best_values['tera'], description='E to Q rate', style=style, layout=slider_layout),\n",
    "         mega=FloatSlider(min=0, max=1, step=0.01, value=result.best_values['mega'], description='Fraction Q to I', style=style, layout=slider_layout),\n",
    "         kilo=FloatSlider(min=0, max=10, step=0.01, value=result.best_values['kilo'], description='Q to R rate', style=style, layout=slider_layout),\n",
    "         nano=FloatSlider(min=0, max=10, step=0.01, value=result.best_values['nano'], description='Q to I rate', style=style, layout=slider_layout),\n",
    "         gamma=FloatSlider(min=0, max=10, step=0.01, value=gamma, description='Recovery rate', style=style, layout=slider_layout),\n",
    "         theta=FloatSlider(min=0, max=10, step=0.01, value=theta, description='I to C rate', style=style, layout=slider_layout),\n",
    "         delta=FloatSlider(min=0, max=10, step=0.01, value=delta, description='Incubation rate', style=style, layout=slider_layout),\n",
    "         pi=FloatSlider(min=0, max=1, step=0.01, value=result.best_values['pi'], description='Fraction I to C', style=style, layout=slider_layout),\n",
    "         alpha=FloatSlider(min=0, max=1, step=0.01, value=result.best_values['alpha'], description='Fraction C to D', style=style, layout=slider_layout),\n",
    "         sigma=FloatSlider(min=0, max=10, step=0.01, value=sigma, description='C to R rate', style=style, layout=slider_layout),\n",
    "         lamda=FloatSlider(min=0, max=10, step=0.01, value=lamda, description='C to D rate', style=style, layout=slider_layout),\n",
    "         omega=FloatSlider(min=0, max=10, step=0.01, value=result.best_values['omega'], description='omega', style=style, layout=slider_layout),\n",
    "         start_R=FloatSlider(min=0, max=10, step=0.01, value=result.best_values['start_R'], description='Start_Val', style=style, layout=slider_layout),\n",
    "         end_R=FloatSlider(min=0, max=4, step=0.01, value=result.best_values['end_R'], description='End_val', style=style, layout=slider_layout),\n",
    "         Stch=FloatSlider(min=0, max=20, step=0.01, value=result.best_values['Stch'] , description='Stretch', style=style, layout=slider_layout),\n",
    "         x0=FloatSlider(min=0, max=180, step=1, value=result.best_values['x0'], description='D-Day', style=style, layout=slider_layout),\n",
    "         days=IntSlider(min=1, max=3000, step=7, value=1500, description='Days', style=style, layout=slider_layout),\n",
    "         #action=ToggleButton(value=False, description='interac', disabled=False, button_style='', \\\n",
    "             #tooltip='Click to enable interactivity', icon='check-circle')\n",
    "        );\n",
    "\n",
    "\n",
    "\n"
   ]
  },
  {
   "cell_type": "markdown",
   "id": "82639a24",
   "metadata": {},
   "source": [
    "Code References:\n",
    "\n",
    "1.https://github.com/silpara/simulators/blob/master/compartmental_models/SEIRD%20Simulator%20with%20Parameter%20Estimation%20in%20Python.ipynb\n",
    "\n",
    "2.https://github.com/henrifroese/infectious_disease_modelling/blob/master/part_three.ipynb"
   ]
  },
  {
   "cell_type": "code",
   "execution_count": null,
   "id": "511281e4",
   "metadata": {},
   "outputs": [],
   "source": []
  }
 ],
 "metadata": {
  "kernelspec": {
   "display_name": "Python 3 (ipykernel)",
   "language": "python",
   "name": "python3"
  },
  "language_info": {
   "codemirror_mode": {
    "name": "ipython",
    "version": 3
   },
   "file_extension": ".py",
   "mimetype": "text/x-python",
   "name": "python",
   "nbconvert_exporter": "python",
   "pygments_lexer": "ipython3",
   "version": "3.9.7"
  }
 },
 "nbformat": 4,
 "nbformat_minor": 5
}
